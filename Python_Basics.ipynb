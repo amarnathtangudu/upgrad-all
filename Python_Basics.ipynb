{
 "cells": [
  {
   "cell_type": "markdown",
   "metadata": {},
   "source": [
    "# Basics of Python Webinar"
   ]
  },
  {
   "cell_type": "markdown",
   "metadata": {},
   "source": [
    "### This notebook gives an overview of the following programming contructs:\n",
    "+ ### General formatting\n",
    "+ ### Data Structures\n",
    "+ ### Strings\n",
    "+ ### Conditional Statements\n",
    "+ ### Loops \n",
    "+ ### Special functions: map & filter"
   ]
  },
  {
   "cell_type": "markdown",
   "metadata": {},
   "source": [
    "# Let's get started"
   ]
  },
  {
   "cell_type": "markdown",
   "metadata": {},
   "source": [
    "### General Formatting\n",
    "+ ### Variable Declarations\n",
    "+ ### Operations\n",
    "+ ### Functions\n",
    "+ ### Comments\n",
    "+ ### Indentation\n",
    "+ ### Packages"
   ]
  },
  {
   "cell_type": "markdown",
   "metadata": {},
   "source": [
    "### Variable Declarations\n",
    "* #### Helps to define entities to be used for data loading and computations\n",
    "* #### Does not require specifying type of the variable\n",
    "* #### Can be used to declare integers, decimals, strings, boolean and objects"
   ]
  },
  {
   "cell_type": "code",
   "execution_count": 95,
   "metadata": {},
   "outputs": [],
   "source": [
    "n = 10000\n",
    "average_height = 5.6\n",
    "message = \"Python is awesome\"\n",
    "is_greater = True"
   ]
  },
  {
   "cell_type": "markdown",
   "metadata": {},
   "source": [
    "### Operations\n",
    "#### These are units of computations to be performed on variables"
   ]
  },
  {
   "cell_type": "code",
   "execution_count": 96,
   "metadata": {},
   "outputs": [],
   "source": [
    "n = n * 10\n",
    "total_height = n * average_height\n",
    "message = message + \". So is Java\""
   ]
  },
  {
   "cell_type": "markdown",
   "metadata": {},
   "source": [
    "### Functions\n",
    "#### Group of operations on varibles that may or may not produce a result"
   ]
  },
  {
   "cell_type": "code",
   "execution_count": 97,
   "metadata": {},
   "outputs": [
    {
     "name": "stdout",
     "output_type": "stream",
     "text": [
      "Sum of two numbers: 101000\n",
      "Python is awesome. So is Java\n"
     ]
    }
   ],
   "source": [
    "def add(a, b):\n",
    "    c = a + b\n",
    "    return c\n",
    "\n",
    "print('Sum of two numbers:', add(n, 1000))\n",
    "\n",
    "def show_message(m):\n",
    "    print(m)\n",
    "\n",
    "show_message(message)"
   ]
  },
  {
   "cell_type": "markdown",
   "metadata": {},
   "source": [
    "#### lambda function\n",
    "* ##### Usually suitable for simple or step computations\n",
    "* ##### Efficient style of declaring functions inline"
   ]
  },
  {
   "cell_type": "code",
   "execution_count": 98,
   "metadata": {},
   "outputs": [
    {
     "name": "stdout",
     "output_type": "stream",
     "text": [
      "Squaring by a lambda function: 4\n"
     ]
    }
   ],
   "source": [
    "square_func = lambda x: x ** 2\n",
    "\n",
    "print('Squaring by a lambda function:', square_func(2))"
   ]
  },
  {
   "cell_type": "markdown",
   "metadata": {},
   "source": [
    "### Comments\n",
    "#### Used to add explanations to code"
   ]
  },
  {
   "cell_type": "code",
   "execution_count": 99,
   "metadata": {},
   "outputs": [
    {
     "data": {
      "text/plain": [
       "'\\nThis is a comment\\n'"
      ]
     },
     "execution_count": 99,
     "metadata": {},
     "output_type": "execute_result"
    }
   ],
   "source": [
    "\"\"\"\n",
    "This is a comment\n",
    "\"\"\"\n",
    "\n",
    "#This is also a comment"
   ]
  },
  {
   "cell_type": "markdown",
   "metadata": {},
   "source": [
    "### Indentation\n",
    "* #### Computer don't care about identation but humans do!\n",
    "* #### Identations define structures and group words into a cohesive entity e.g. ideas, statements etc.\n",
    "* #### Helps in debugging programs or scripts"
   ]
  },
  {
   "cell_type": "code",
   "execution_count": 100,
   "metadata": {},
   "outputs": [],
   "source": [
    "def function(a,b):\n",
    "    \"\"\"\n",
    "    This is a function which starts with an identation\n",
    "    \"\"\"\n",
    "    return a+b"
   ]
  },
  {
   "cell_type": "markdown",
   "metadata": {},
   "source": [
    "### Packages\n",
    "#### Using others' work so that you don't have to reinvent the wheel"
   ]
  },
  {
   "cell_type": "code",
   "execution_count": 101,
   "metadata": {},
   "outputs": [],
   "source": [
    "import os\n",
    "import pandas as pd\n",
    "from sklearn.linear_model import LinearRegression"
   ]
  },
  {
   "cell_type": "code",
   "execution_count": 102,
   "metadata": {},
   "outputs": [
    {
     "name": "stdout",
     "output_type": "stream",
     "text": [
      "Current working directory: C:\\Users\\avpal\\PythonBasics\n"
     ]
    }
   ],
   "source": [
    "print('Current working directory:', os.getcwd())"
   ]
  },
  {
   "cell_type": "markdown",
   "metadata": {},
   "source": [
    "### Data Structures - Define a collection of variables which will be used for some computation or transformation\n",
    "+ ### List\n",
    "+ ### Tuple\n",
    "+ ### Dictionary\n",
    "+ ### Set"
   ]
  },
  {
   "cell_type": "markdown",
   "metadata": {},
   "source": [
    "### List\n",
    "* #### Mutable collection of variables\n",
    "* #### Variables can be of any type - integers, decimals, strings & objects\n",
    "* #### Members of a list can be changed\n",
    "* #### Duplicates are allowed"
   ]
  },
  {
   "cell_type": "code",
   "execution_count": 103,
   "metadata": {},
   "outputs": [],
   "source": [
    "#Examples of list\n",
    "integers = [1, 2, 3, 4, 3, 2, 4]\n",
    "names = ['John', 'Bob', 'Sally']\n",
    "mixed_list = [1, 3.14, 'Python', LinearRegression()]"
   ]
  },
  {
   "cell_type": "markdown",
   "metadata": {},
   "source": [
    "#### Lists can be iterated using for loop"
   ]
  },
  {
   "cell_type": "code",
   "execution_count": 104,
   "metadata": {},
   "outputs": [
    {
     "name": "stdout",
     "output_type": "stream",
     "text": [
      "1\n",
      "2\n",
      "3\n",
      "4\n",
      "3\n",
      "2\n",
      "4\n"
     ]
    }
   ],
   "source": [
    "for i in integers:\n",
    "    print(i)"
   ]
  },
  {
   "cell_type": "markdown",
   "metadata": {},
   "source": [
    "##### Or inline"
   ]
  },
  {
   "cell_type": "code",
   "execution_count": 105,
   "metadata": {},
   "outputs": [
    {
     "name": "stdout",
     "output_type": "stream",
     "text": [
      "[1, 4, 9, 16, 9, 4, 16]\n"
     ]
    }
   ],
   "source": [
    "print([i**2 for i in integers])"
   ]
  },
  {
   "cell_type": "markdown",
   "metadata": {},
   "source": [
    "###### Can be created using in-built functions"
   ]
  },
  {
   "cell_type": "code",
   "execution_count": 106,
   "metadata": {},
   "outputs": [
    {
     "name": "stdout",
     "output_type": "stream",
     "text": [
      "range(1, 10)\n"
     ]
    }
   ],
   "source": [
    "first10positiveintegers = range(1, 10, 1) #syntax of range - start, end, increment by\n",
    "print(first10positiveintegers)"
   ]
  },
  {
   "cell_type": "markdown",
   "metadata": {},
   "source": [
    "###### range is an iterator object in Python 3 so it needs to be iterated explicitly"
   ]
  },
  {
   "cell_type": "code",
   "execution_count": 107,
   "metadata": {},
   "outputs": [
    {
     "name": "stdout",
     "output_type": "stream",
     "text": [
      "[1, 4, 9, 16, 25, 36, 49, 64, 81]\n"
     ]
    }
   ],
   "source": [
    "squares = [i**2 for i in range(1, 10, 1)]\n",
    "print(squares)"
   ]
  },
  {
   "cell_type": "markdown",
   "metadata": {},
   "source": [
    "###### Members can be accessed or sliced by index"
   ]
  },
  {
   "cell_type": "code",
   "execution_count": 108,
   "metadata": {},
   "outputs": [
    {
     "name": "stdout",
     "output_type": "stream",
     "text": [
      "[1, 4, 9, 16, 25]\n",
      "1 81\n"
     ]
    }
   ],
   "source": [
    "\"\"\"First 5 members\"\"\"\n",
    "print(squares[:5])\n",
    "\n",
    "\"\"\"First and last memebers\"\"\"\n",
    "print(squares[0], squares[-1])"
   ]
  },
  {
   "cell_type": "markdown",
   "metadata": {},
   "source": [
    "### Tuple\n",
    "* #### Non-mutable collection of variables\n",
    "* #### Variables can be of any type - integers, decimals, strings & objects\n",
    "* #### Members of a list cannot be changed\n",
    "* #### Duplicates are allowed"
   ]
  },
  {
   "cell_type": "code",
   "execution_count": 109,
   "metadata": {},
   "outputs": [],
   "source": [
    "mytuple = (1, 3.14, 'Python', LinearRegression())"
   ]
  },
  {
   "cell_type": "markdown",
   "metadata": {},
   "source": [
    "### Dictionary\n",
    "* #### Mapping of key-value pairs: ('Bob', 1001), ('Sally', 1002), ('Billy', 1003)\n",
    "* #### Values can be accessed by keys\n",
    "* #### Values can be changed\n",
    "* #### New keys can be added and existing ones can be removed from a dictionary"
   ]
  },
  {
   "cell_type": "code",
   "execution_count": 110,
   "metadata": {},
   "outputs": [
    {
     "name": "stdout",
     "output_type": "stream",
     "text": [
      "1002\n"
     ]
    }
   ],
   "source": [
    "\"\"\"Create a dictionary\"\"\"\n",
    "employees = {}\n",
    "employees['Bob'] = 1001\n",
    "employees['Sally'] = 1002\n",
    "employees['Billy'] = 1003\n",
    "\n",
    "\"\"\"Access values by key E.g. What is Sally's employee number\"\"\"\n",
    "print(employees['Sally'])"
   ]
  },
  {
   "cell_type": "code",
   "execution_count": 111,
   "metadata": {},
   "outputs": [
    {
     "ename": "KeyError",
     "evalue": "'Josh'",
     "output_type": "error",
     "traceback": [
      "\u001b[1;31m---------------------------------------------------------------------------\u001b[0m",
      "\u001b[1;31mKeyError\u001b[0m                                  Traceback (most recent call last)",
      "\u001b[1;32m<ipython-input-111-c34e8e80a804>\u001b[0m in \u001b[0;36m<module>\u001b[1;34m()\u001b[0m\n\u001b[0;32m      1\u001b[0m \u001b[1;34m\"\"\"What is Josh's employee number\"\"\"\u001b[0m\u001b[1;33m\u001b[0m\u001b[0m\n\u001b[1;32m----> 2\u001b[1;33m \u001b[0mprint\u001b[0m\u001b[1;33m(\u001b[0m\u001b[0memployees\u001b[0m\u001b[1;33m[\u001b[0m\u001b[1;34m'Josh'\u001b[0m\u001b[1;33m]\u001b[0m\u001b[1;33m)\u001b[0m\u001b[1;33m\u001b[0m\u001b[0m\n\u001b[0m",
      "\u001b[1;31mKeyError\u001b[0m: 'Josh'"
     ]
    }
   ],
   "source": [
    "\"\"\"What is Josh's employee number\"\"\"\n",
    "print(employees['Josh'])"
   ]
  },
  {
   "cell_type": "markdown",
   "metadata": {},
   "source": [
    "###### Oops! Josh doesn't exist in the dictionary so we need to add him"
   ]
  },
  {
   "cell_type": "code",
   "execution_count": 112,
   "metadata": {},
   "outputs": [
    {
     "data": {
      "text/plain": [
       "False"
      ]
     },
     "execution_count": 112,
     "metadata": {},
     "output_type": "execute_result"
    }
   ],
   "source": [
    "\"\"\"How can we check if a key exists in the dictionary\"\"\"\n",
    "'Josh' in employees"
   ]
  },
  {
   "cell_type": "code",
   "execution_count": 113,
   "metadata": {},
   "outputs": [],
   "source": [
    "\"\"\"Let's add a new key\"\"\"\n",
    "employees['Josh'] = 1004"
   ]
  },
  {
   "cell_type": "code",
   "execution_count": 114,
   "metadata": {},
   "outputs": [
    {
     "name": "stdout",
     "output_type": "stream",
     "text": [
      "Name: Bob Employee id: 1001\n",
      "Name: Sally Employee id: 1002\n",
      "Name: Billy Employee id: 1003\n",
      "Name: Josh Employee id: 1004\n"
     ]
    }
   ],
   "source": [
    "\"\"\"Which key-value do we have?\"\"\"\n",
    "for name, emp_id in employees.items():\n",
    "    print('Name:', name, 'Employee id:', emp_id)"
   ]
  },
  {
   "cell_type": "code",
   "execution_count": 115,
   "metadata": {},
   "outputs": [
    {
     "data": {
      "text/plain": [
       "False"
      ]
     },
     "execution_count": 115,
     "metadata": {},
     "output_type": "execute_result"
    }
   ],
   "source": [
    "\"\"\"How do we remove a key-value pair?\"\"\"\n",
    "employees.pop('Bob')\n",
    "'Bob' in employees"
   ]
  },
  {
   "cell_type": "markdown",
   "metadata": {},
   "source": [
    "### Set\n",
    "* #### Members are not duplicate\n",
    "* #### Supports set operations"
   ]
  },
  {
   "cell_type": "code",
   "execution_count": 116,
   "metadata": {},
   "outputs": [
    {
     "name": "stdout",
     "output_type": "stream",
     "text": [
      "List of integers having duplicates: [1, 2, 3, 4, 3, 2, 4]\n"
     ]
    }
   ],
   "source": [
    "print('List of integers having duplicates:', integers)"
   ]
  },
  {
   "cell_type": "code",
   "execution_count": 117,
   "metadata": {},
   "outputs": [
    {
     "name": "stdout",
     "output_type": "stream",
     "text": [
      "{1, 2, 3, 4}\n"
     ]
    }
   ],
   "source": [
    "\"\"\"Let's create a set having unique members\"\"\"\n",
    "integer_set = set(integers)\n",
    "print(integer_set)"
   ]
  },
  {
   "cell_type": "code",
   "execution_count": 118,
   "metadata": {},
   "outputs": [
    {
     "name": "stdout",
     "output_type": "stream",
     "text": [
      "Union: {0, 1, 2, 3, 4, 3.14, 5, 6, 4.5, -1}\n",
      "Intersection: {1, 2, 4}\n",
      "Difference: {3}\n"
     ]
    }
   ],
   "source": [
    "\"\"\"Let's try some set operations\"\"\"\n",
    "another_set = set([-1, 0, 1, 1, 2, 4, 5, 6, 3.14, 4.5])\n",
    "\n",
    "print('Union:', integer_set.union(another_set))\n",
    "print('Intersection:', integer_set.intersection(another_set))\n",
    "print('Difference:', integer_set.difference(another_set)) #Members of integer_set which are not in another_set"
   ]
  },
  {
   "cell_type": "markdown",
   "metadata": {},
   "source": [
    "### Strings\n",
    "+ ### These are objects of class str\n",
    "+ ### String operations: replace, concatenate, substring\n",
    "+ ### String as a list of characters "
   ]
  },
  {
   "cell_type": "code",
   "execution_count": 119,
   "metadata": {},
   "outputs": [
    {
     "name": "stdout",
     "output_type": "stream",
     "text": [
      "<class 'str'>\n"
     ]
    }
   ],
   "source": [
    "s = 'This is a string.'\n",
    "\n",
    "print(type(s))"
   ]
  },
  {
   "cell_type": "markdown",
   "metadata": {},
   "source": [
    "###### Let's do some string operations"
   ]
  },
  {
   "cell_type": "code",
   "execution_count": 120,
   "metadata": {},
   "outputs": [
    {
     "name": "stdout",
     "output_type": "stream",
     "text": [
      "This is a series of characters.\n"
     ]
    }
   ],
   "source": [
    "\"\"\"Replace a part of the string with another\"\"\"\n",
    "\n",
    "new_string = s.replace('string', 'series of characters')\n",
    "\n",
    "print(new_string)"
   ]
  },
  {
   "cell_type": "code",
   "execution_count": 121,
   "metadata": {},
   "outputs": [
    {
     "name": "stdout",
     "output_type": "stream",
     "text": [
      "This is a string. A string is a series of characters.\n"
     ]
    }
   ],
   "source": [
    "\"\"\"Concatenate two strings\"\"\"\n",
    "\n",
    "new_string = s + ' A string is a series of characters.'\n",
    "print(new_string)"
   ]
  },
  {
   "cell_type": "code",
   "execution_count": 122,
   "metadata": {},
   "outputs": [
    {
     "name": "stdout",
     "output_type": "stream",
     "text": [
      " is\n"
     ]
    }
   ],
   "source": [
    "\"\"\"Substring from a string\"\"\"\n",
    "print(new_string[4:7])"
   ]
  },
  {
   "cell_type": "code",
   "execution_count": 123,
   "metadata": {},
   "outputs": [
    {
     "name": "stdout",
     "output_type": "stream",
     "text": [
      "['T', 'h', 'i', 's', ' ', 'i', 's', ' ', 'a', ' ', 's', 't', 'r', 'i', 'n', 'g', '.']\n"
     ]
    }
   ],
   "source": [
    "\"\"\"String as a list of characters\"\"\"\n",
    "print(list(s))"
   ]
  },
  {
   "cell_type": "code",
   "execution_count": 124,
   "metadata": {},
   "outputs": [
    {
     "name": "stdout",
     "output_type": "stream",
     "text": [
      "['T', 'h', 'i', 's', ' ', 'i', 's', ' ', 'a', ' ', 's', 't', 'r', 'i', 'n', 'g', '.']\n"
     ]
    }
   ],
   "source": [
    "\"\"\"Another example\"\"\"\n",
    "print([c for c in s])"
   ]
  },
  {
   "cell_type": "markdown",
   "metadata": {},
   "source": [
    "### Conditonal Statements\n",
    "+ ### Makes decision making possible by your program\n",
    "+ ### Process variables or do computations based on values or state of th variable"
   ]
  },
  {
   "cell_type": "markdown",
   "metadata": {},
   "source": [
    "###### Let's see an example - Tax calculation based on income"
   ]
  },
  {
   "cell_type": "code",
   "execution_count": 125,
   "metadata": {},
   "outputs": [
    {
     "name": "stdout",
     "output_type": "stream",
     "text": [
      "No tax is to be paid\n"
     ]
    }
   ],
   "source": [
    "income = 355000\n",
    "\n",
    "if income <=500000:\n",
    "    print('No tax is to be paid')\n",
    "else:\n",
    "    print('Tax to be paid:', income * 0.20)"
   ]
  },
  {
   "cell_type": "markdown",
   "metadata": {},
   "source": [
    "###### You don't need to have an else nessecarily if your logic dosn't require it"
   ]
  },
  {
   "cell_type": "markdown",
   "metadata": {},
   "source": [
    "###### Also you can evaluate more than one condition"
   ]
  },
  {
   "cell_type": "code",
   "execution_count": 126,
   "metadata": {},
   "outputs": [
    {
     "name": "stdout",
     "output_type": "stream",
     "text": [
      "Tax for 250000: 0.0\n",
      "Tax for 800000: 45000.0\n",
      "Tax for 1750000: 375000.0\n"
     ]
    }
   ],
   "source": [
    "def calculate_tax(income):\n",
    "    if income <= 500000:\n",
    "        tax = 0.\n",
    "    elif income > 500000 and income <=1000000:\n",
    "        tax = (income - 500000) * 0.15\n",
    "    else:\n",
    "        #income is more than 10 lakhs\n",
    "        tax = 150000 + (income - 1000000) * 0.30\n",
    "    \n",
    "    return tax\n",
    "\n",
    "print('Tax for 250000:', calculate_tax(250000))\n",
    "print('Tax for 800000:', calculate_tax(800000))\n",
    "print('Tax for 1750000:', calculate_tax(1750000))"
   ]
  },
  {
   "cell_type": "markdown",
   "metadata": {},
   "source": [
    "### Loops\n",
    "+ ### Perform compuations on a collection of items sequentially\n",
    "+ ### Code for doing same computation doesn't need to be written mutiple times\n",
    "+ ### Two important types of looping techniques: for loops & while loop"
   ]
  },
  {
   "cell_type": "markdown",
   "metadata": {},
   "source": [
    "### for loop\n",
    "* #### Iterate over a collection of items\n",
    "* #### Number of iterations needed is equal to the number of items in the collection"
   ]
  },
  {
   "cell_type": "code",
   "execution_count": 127,
   "metadata": {},
   "outputs": [
    {
     "name": "stdout",
     "output_type": "stream",
     "text": [
      "0\n",
      "1\n",
      "4\n",
      "9\n",
      "16\n",
      "25\n",
      "36\n"
     ]
    }
   ],
   "source": [
    "\"\"\"Example of for loop: Square a list of integers\"\"\"\n",
    "\n",
    "integers = [0, 1, 2, 3, 4, 5, 6]\n",
    "\n",
    "for i in integers:\n",
    "    \"\"\"for each memeber of the list perform the following computations\"\"\"\n",
    "    sq = i ** 2\n",
    "    print(sq)"
   ]
  },
  {
   "cell_type": "code",
   "execution_count": 128,
   "metadata": {},
   "outputs": [
    {
     "name": "stdout",
     "output_type": "stream",
     "text": [
      "2\n",
      "3\n",
      "5\n",
      "6\n"
     ]
    }
   ],
   "source": [
    "\"\"\"Example of another for loop: print only positive numbers\"\"\"\n",
    "\n",
    "integers = [0, -1, 2, 3, -4, 5, 6]\n",
    "\n",
    "for i in integers:\n",
    "    \"\"\"for each memeber of the list perform the following computations\"\"\"\n",
    "    if i > 0:\n",
    "        print(i)"
   ]
  },
  {
   "cell_type": "markdown",
   "metadata": {},
   "source": [
    "### while loop\n",
    "* #### Iterate till a conditions is met\n",
    "* #### Number of iterations needed is not always predefined but depends on the condition\n",
    "\n",
    "#### Generate a random number between 0 to 10 and keep repeating till 3 numbers greater than or equal to 5 are generated"
   ]
  },
  {
   "cell_type": "code",
   "execution_count": 129,
   "metadata": {},
   "outputs": [
    {
     "name": "stdout",
     "output_type": "stream",
     "text": [
      "Took 6 iterations\n"
     ]
    }
   ],
   "source": [
    "\"\"\"Let's see how it works. Firstly, we need a random number generator. We use random package to do so\"\"\"\n",
    "import random\n",
    "import math\n",
    "\n",
    "count = 0\n",
    "iterations = 0\n",
    "\n",
    "while(count < 3):\n",
    "    rn = math.ceil(random.uniform(0, 10))\n",
    "    if rn >= 5:\n",
    "        count = count + 1\n",
    "    iterations = iterations + 1\n",
    "\n",
    "print('Took', iterations, 'iterations')"
   ]
  },
  {
   "cell_type": "markdown",
   "metadata": {},
   "source": [
    "### Special functions: map & filter"
   ]
  },
  {
   "cell_type": "markdown",
   "metadata": {},
   "source": [
    "### map - used to transform a collection of items"
   ]
  },
  {
   "cell_type": "code",
   "execution_count": 130,
   "metadata": {},
   "outputs": [
    {
     "name": "stdout",
     "output_type": "stream",
     "text": [
      "Squares using map function: [0, 1, 4, 9, 16, 25, 36]\n"
     ]
    }
   ],
   "source": [
    "\"\"\"Square each element of a list of integers\"\"\"\n",
    "sq = map(lambda x: x**2, integers)\n",
    "\n",
    "print('Squares using map function:', [i for i in sq])"
   ]
  },
  {
   "cell_type": "markdown",
   "metadata": {},
   "source": [
    "### filter - used to obtain items from a collection based on a condition"
   ]
  },
  {
   "cell_type": "code",
   "execution_count": 131,
   "metadata": {},
   "outputs": [
    {
     "name": "stdout",
     "output_type": "stream",
     "text": [
      "Positive numbers: [2, 3, 5, 6]\n"
     ]
    }
   ],
   "source": [
    "\"\"\"Print only positive numbers from a list\"\"\"\n",
    "pos = filter(lambda x: x>0, integers)\n",
    "\n",
    "print('Positive numbers:', [i for i in pos])"
   ]
  }
 ],
 "metadata": {
  "kernelspec": {
   "display_name": "Python 3",
   "language": "python",
   "name": "python3"
  },
  "language_info": {
   "codemirror_mode": {
    "name": "ipython",
    "version": 3
   },
   "file_extension": ".py",
   "mimetype": "text/x-python",
   "name": "python",
   "nbconvert_exporter": "python",
   "pygments_lexer": "ipython3",
   "version": "3.7.0"
  }
 },
 "nbformat": 4,
 "nbformat_minor": 2
}
